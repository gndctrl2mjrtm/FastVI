{
 "cells": [
  {
   "cell_type": "code",
   "execution_count": 1,
   "metadata": {},
   "outputs": [],
   "source": [
    "# from VI import fast_value_iteration\n",
    "from frozen_lake import *\n",
    "%matplotlib inline\n",
    "\n"
   ]
  },
  {
   "cell_type": "code",
   "execution_count": null,
   "metadata": {},
   "outputs": [],
   "source": []
  },
  {
   "cell_type": "code",
   "execution_count": 2,
   "metadata": {},
   "outputs": [
    {
     "name": "stderr",
     "output_type": "stream",
     "text": [
      "2019-06-13 12:42:14,072\tINFO node.py:423 -- Process STDOUT and STDERR is being redirected to /tmp/ray/session_2019-06-13_12-42-14_8635/logs.\n",
      "2019-06-13 12:42:14,186\tINFO services.py:363 -- Waiting for redis server at 127.0.0.1:39014 to respond...\n",
      "2019-06-13 12:42:14,312\tINFO services.py:363 -- Waiting for redis server at 127.0.0.1:42558 to respond...\n",
      "2019-06-13 12:42:14,316\tINFO services.py:760 -- Starting Redis shard with 0.5 GB max memory.\n",
      "2019-06-13 12:42:14,349\tINFO services.py:1384 -- Starting the Plasma object store with 5.0 GB memory using /dev/shm.\n"
     ]
    }
   ],
   "source": [
    "import ray\n",
    "import time\n",
    "from copy import deepcopy\n",
    "import matplotlib.pyplot as plt\n",
    "from random import randint, choice\n",
    "import pickle\n",
    "import numpy as np\n",
    "\n",
    "ray.shutdown()\n",
    "ray.init(include_webui=False, ignore_reinit_error=True, redis_max_memory=500000000, object_store_memory=5000000000)\n",
    "\n",
    "# A : Action Space \n",
    "# S : State Space \n",
    "\n",
    "@ray.remote\n",
    "class VI_worker_class(object):\n",
    "    def __init__(self, A, successors, rewards, beta, start_state, end_state):\n",
    "        self.A = A\n",
    "        self.succ_arr = successors\n",
    "        self.rew_arr = rewards\n",
    "        self.beta = beta\n",
    "        self.start_state = start_state\n",
    "        self.end_state = end_state\n",
    "\n",
    "    def compute(self, values):\n",
    "        return_vals = [(float('-inf'), 0) for i in range(self.end_state-self.start_state)]\n",
    "        max_error = 0\n",
    "        for state in range(self.start_state, self.end_state):\n",
    "            for action in range(self.A):\n",
    "                expected_val = 0\n",
    "                successors = self.succ_arr[state - self.start_state][action]\n",
    "                for (next_state, prob) in successors:\n",
    "                    expected_val += prob * values[next_state]\n",
    "                new_val = self.rew_arr[state - self.start_state][action] + self.beta*expected_val\n",
    "                if new_val > return_vals[state - self.start_state][0]:\n",
    "                    return_vals[state - self.start_state] = (new_val, action)\n",
    "            error = abs(return_vals[state - self.start_state][0] - values[state])\n",
    "            if error > max_error:\n",
    "                max_error = error\n",
    "        return return_vals, max_error, self.start_state\n",
    "\n",
    "def fast_value_iteration(env, beta = 0.999, epsilon = 0.01, workers_num = 4, synchronous = True):\n",
    "    # Make VI server\n",
    "    S = env.GetStateSpace()\n",
    "    A = env.GetActionSpace()\n",
    "    v_current = [0] * S\n",
    "    pi = [0] * S\n",
    "    batch_indxs = [(int(i*(S/workers_num)), int((i+1)*(S/workers_num))) for i in range(workers_num)]\n",
    "#     print(batch_indxs) #[(0, 100), (100, 200), (200, 300), (300, 401)]\n",
    "\n",
    "    # Make VI workers\n",
    "    workers_list = [VI_worker_class.remote(A = A,\n",
    "                    successors = [[env.GetSuccessors(state, action) for action in range(A)] \n",
    "                                for state in range(batch_indx[0], batch_indx[1])],\n",
    "                    rewards = env.TransitReward[batch_indx[0]:batch_indx[1], :], \n",
    "                    beta = beta, \n",
    "                    start_state = batch_indx[0], \n",
    "                    end_state = batch_indx[1]) \n",
    "                for batch_indx in batch_indxs]\n",
    "    \n",
    "    # Do VI computation\n",
    "    error = float('inf')\n",
    "    while error > epsilon:\n",
    "        object_list = [workers_list[i].compute.remote(v_current) for i in range(workers_num)]\n",
    "        # Wait for workers to finish\n",
    "\n",
    "        results = ray.get(object_list)\n",
    "        \n",
    "        \n",
    "        if(synchronous):\n",
    "            sum_error = 0\n",
    "            for vals, error, start_ind in  results:\n",
    "                sum_error += error\n",
    "                val_len = len(vals)\n",
    "                v_current[start_ind:start_ind+val_len] = [vals[i][0] for i in range(val_len)]\n",
    "                pi[start_ind:start_ind+val_len] = [vals[i][1] for i in range(val_len)]\n",
    "            \n",
    "            error = sum_error\n",
    "            \n",
    "\n",
    "        if(not synchronous):\n",
    "            error_list = []\n",
    "            for i in range(workers_num):\n",
    "                finish_id = ray.wait(object_list, num_returns = 1, timeout = None)[0][0]\n",
    "                object_list.remove(finish_id)\n",
    "                vals, error, start_ind = ray.get(finish_id)\n",
    "                error_list.append(error)\n",
    "                val_len = len(vals)\n",
    "                v_current[start_ind:start_ind+val_len] = [vals[i][0] for i in range(val_len)]\n",
    "                pi[start_ind:start_ind+val_len] = [vals[i][1] for i in range(val_len)]\n",
    "\n",
    "                print(\"Error:\",error)\n",
    "\n",
    "            error = max(error_list)\n",
    "    \n",
    "    return v_current, pi\n"
   ]
  },
  {
   "cell_type": "code",
   "execution_count": 3,
   "metadata": {},
   "outputs": [],
   "source": [
    "map_size = 64\n",
    "MAPMAP = generate_random_map(size=map_size,p=0.85)"
   ]
  },
  {
   "cell_type": "code",
   "execution_count": 6,
   "metadata": {},
   "outputs": [
    {
     "name": "stdout",
     "output_type": "stream",
     "text": [
      "Error: 1000.0\n",
      "Error: 1000.0\n",
      "Error: 1000.0\n",
      "Error: 1000.0\n",
      "\n",
      "Average reward: -1017.849\n",
      "\n",
      "Avereage discounted reward: -872.4780174839283\n",
      "\n",
      "State Value image view:\n",
      "\n",
      "time taken: 1.3698461055755615\n"
     ]
    },
    {
     "data": {
      "image/png": "[encoded data removed]",
      "text/plain": [
       "<Figure size 432x288 with 1 Axes>"
      ]
     },
     "metadata": {},
     "output_type": "display_data"
    }
   ],
   "source": [
    "# MAPS[\"new_env\"] = generate_random_map(size=20)\n",
    "import time\n",
    "\n",
    "\n",
    "frozen_env = FrozenLakeEnv(desc =MAPMAP )\n",
    "\n",
    "st = time.time()\n",
    "\n",
    "v, pi = fast_value_iteration(env = frozen_env,synchronous = False)\n",
    "save_and_print_results(v,pi, map_size=map_size,env= frozen_env, beta = 0.99,name=\"fastVI\")\n",
    "\n",
    "print(\"time taken:\",time.time()-st)"
   ]
  },
  {
   "cell_type": "code",
   "execution_count": null,
   "metadata": {},
   "outputs": [],
   "source": []
  },
  {
   "cell_type": "code",
   "execution_count": null,
   "metadata": {},
   "outputs": [],
   "source": []
  }
 ],
 "metadata": {
  "kernelspec": {
   "display_name": "Python 3 (Intel, 2019 update 2)",
   "language": "python",
   "name": "c009-intel_distribution_of_python_3_2019u2"
  }
 },
 "nbformat": 4,
 "nbformat_minor": 2
}
