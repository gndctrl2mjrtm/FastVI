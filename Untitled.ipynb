{
 "cells": [
  {
   "cell_type": "code",
   "execution_count": 3,
   "metadata": {},
   "outputs": [],
   "source": [
    "from VI import fast_value_iteration\n",
    "from frozen_lake import *\n",
    "%matplotlib inline\n",
    "\n"
   ]
  },
  {
   "cell_type": "code",
   "execution_count": 4,
   "metadata": {},
   "outputs": [
    {
     "name": "stdout",
     "output_type": "stream",
     "text": [
      "\n",
      "State Value:\n",
      "\n",
      "[[ -729.24 -1000.    -771.    -778.03  -809.26  -835.21 -1000.    -847.08  -854.5  -1000.    -773.27  -708.16  -696.19  -725.03 -1000.    -867.34  -829.25  -799.18 -1000.   -1000.  ]\n",
      " [ -690.17  -725.19  -736.96  -793.88 -1000.    -850.51  -839.84  -823.97  -834.57  -884.31 -1000.    -723.95  -689.93  -689.47  -741.92 -1000.   -1000.    -765.9  -1000.    -825.46]\n",
      " [ -679.15  -688.86  -725.77 -1000.   -1000.    -832.65  -817.47  -816.64  -837.55 -1000.    -765.07  -699.06  -683.79  -676.39  -675.31  -697.23  -694.26  -693.93 -1000.    -775.34]\n",
      " [ -675.73  -680.48  -695.99  -742.34  -800.65  -808.13  -811.98  -812.23  -822.82  -796.67  -754.86  -712.06  -711.08  -673.15  -662.05  -657.09  -649.77  -639.44  -691.99  -735.77]\n",
      " [ -674.1   -686.67  -725.37  -748.22 -1000.    -830.25  -831.29  -809.85 -1000.    -857.81 -1000.    -758.3  -1000.    -706.45  -668.97  -659.81  -666.8   -622.15  -705.   -1000.  ]\n",
      " [ -671.6   -739.05 -1000.    -716.    -782.68  -812.65 -1000.    -779.01 -1000.   -1000.   -1000.    -695.5   -724.98  -705.54  -699.26  -659.3  -1000.    -600.93 -1000.    -579.32]\n",
      " [ -661.14 -1000.    -687.7   -660.89 -1000.    -815.57  -763.03  -711.15  -652.37  -607.13  -619.14  -638.38  -692.29  -726.21 -1000.    -604.35  -545.81  -483.31  -505.54  -458.52]\n",
      " [ -610.76  -638.7   -601.86  -600.26  -680.64 -1000.    -834.29 -1000.    -600.28  -542.26  -563.16  -658.39 -1000.    -707.78  -621.24  -559.59  -480.84  -453.66  -444.09  -433.77]\n",
      " [ -599.01  -595.82  -583.99  -579.31  -601.35  -686.48 -1000.    -685.69  -550.54  -521.07  -553.82 -1000.    -624.09 -1000.    -583.65 -1000.    -522.22  -458.33  -439.78  -427.95]\n",
      " [ -605.56  -628.53  -582.88  -571.9   -587.2   -652.23  -722.01 -1000.    -567.44  -508.47  -492.78  -515.57  -462.45  -435.13  -458.73  -574.37  -528.27  -523.54  -494.07  -424.61]\n",
      " [ -624.47 -1000.    -608.79  -566.48  -610.92 -1000.    -652.15  -618.32  -560.23  -541.81  -477.84  -456.52  -434.9   -346.35  -426.97 -1000.    -524.55 -1000.   -1000.    -413.39]\n",
      " [ -572.99  -604.26  -562.09  -552.69  -564.52  -612.    -596.81  -605.6   -619.41 -1000.    -542.91  -522.03 -1000.    -308.56  -380.78 -1000.    -387.49  -192.03  -217.74  -327.15]\n",
      " [ -560.56  -557.65  -550.11  -547.05  -552.18  -567.65  -584.9   -636.67  -663.1  -1000.    -557.64  -476.91  -383.46  -193.08  -295.16  -212.19 -1000.     -43.86   -92.92 -1000.  ]\n",
      " [ -564.16  -556.42  -547.54  -544.43  -555.8   -610.    -637.86 -1000.    -655.06 -1000.    -690.66 -1000.   -1000.    -133.64 -1000.      25.87    63.32   122.28    48.79  -185.18]\n",
      " [ -617.56  -605.15  -553.36  -541.33  -580.39 -1000.    -670.61 -1000.    -554.87  -412.74 -1000.    -330.86   -43.13   123.61    86.07   202.55   213.67   166.54   -79.47 -1000.  ]\n",
      " [-1000.   -1000.    -587.16  -532.93  -528.93  -573.24  -580.71  -706.79 -1000.    -223.81  -246.78 -1000.      43.81   191.16   220.77   244.57   245.2    138.58 -1000.    -352.02]\n",
      " [-1000.   -1000.    -583.54  -523.89  -514.01  -516.92  -550.33 -1000.    -279.33   -81.54   -33.78     3.43   153.59   210.66   230.76   255.66   266.81   283.64   -19.03  -165.95]\n",
      " [-1000.   -1000.    -576.89  -519.59  -509.36  -503.83  -485.88  -399.92  -215.33   -66.6    -23.83     2.95    25.65   158.61    98.91   226.16   194.39   351.84 -1000.   -1000.  ]\n",
      " [-1000.    -641.7   -543.99  -524.78  -528.26  -605.9  -1000.   -1000.   -1000.    -193.02  -148.8   -119.61 -1000.      -1.48 -1000.     190.98 -1000.     579.13   504.73 -1000.  ]\n",
      " [-1000.    -605.42  -543.31  -533.69  -581.75 -1000.    -607.34  -494.59  -405.56  -307.07 -1000.     -59.21    85.17   262.37   327.18   527.94   606.94   850.08   926.17  1000.  ]]\n",
      "\n",
      "Policy:\n",
      "\n",
      "[[1 0 1 0 0 0 0 1 1 0 2 2 1 1 0 2 2 1 0 0]\n",
      " [1 1 0 0 0 1 1 1 0 0 0 2 1 1 1 0 0 1 0 1]\n",
      " [1 0 0 0 0 1 1 1 0 0 2 2 2 1 1 1 1 1 0 1]\n",
      " [1 0 0 0 0 0 0 1 2 2 2 3 2 2 2 2 2 1 0 0]\n",
      " [1 0 0 1 0 3 2 1 0 3 0 1 0 2 2 3 2 1 0 0]\n",
      " [1 0 0 1 0 0 0 1 0 0 0 1 1 2 2 1 0 1 0 1]\n",
      " [1 0 1 1 0 2 2 2 1 1 1 0 0 0 0 2 1 1 1 1]\n",
      " [1 1 1 1 0 0 3 0 2 1 0 0 0 2 2 2 2 2 2 1]\n",
      " [2 2 2 1 0 0 0 2 2 1 1 0 1 0 1 0 2 2 2 1]\n",
      " [3 2 2 1 0 0 1 0 2 2 1 1 1 1 1 0 3 3 2 1]\n",
      " [1 0 1 1 1 0 1 2 2 2 2 2 2 1 0 0 1 0 0 1]\n",
      " [1 1 1 1 1 0 1 0 3 0 3 3 0 1 1 0 2 1 1 0]\n",
      " [2 2 2 1 0 0 0 0 3 0 2 2 2 1 0 1 0 1 1 0]\n",
      " [2 2 2 1 0 0 3 0 1 0 3 0 0 1 0 1 1 1 0 0]\n",
      " [3 2 2 1 1 0 1 0 2 1 0 2 2 1 1 1 1 0 0 0]\n",
      " [0 0 2 1 1 1 1 0 0 1 1 0 2 2 2 1 1 1 0 1]\n",
      " [0 0 2 2 1 1 1 0 2 2 2 2 2 2 2 2 2 1 0 0]\n",
      " [0 0 2 2 2 2 2 2 2 2 2 2 2 3 3 3 2 1 0 0]\n",
      " [0 2 2 3 3 3 0 0 0 3 3 3 0 1 0 1 0 1 1 0]\n",
      " [0 2 2 3 3 0 2 2 2 3 0 2 2 2 2 2 2 2 2 0]]\n",
      "\n",
      "Average reward: -742.885\n",
      "\n",
      "Avereage discounted reward: -627.8726464921543\n",
      "\n",
      "State Value image view:\n",
      "\n"
     ]
    },
    {
     "data": {
      "image/png": "[encoded data removed]",
      "text/plain": [
       "<Figure size 432x288 with 1 Axes>"
      ]
     },
     "metadata": {},
     "output_type": "display_data"
    }
   ],
   "source": [
    "# MAPS[\"new_env\"] = generate_random_map(size=20)\n",
    "map_size = 20\n",
    "frozen_env = FrozenLakeEnv(desc = generate_random_map(size=map_size))\n",
    "\n",
    "v, pi = fast_value_iteration(env = frozen_env)\n",
    "save_and_print_results(v,pi, map_size=map_size,env= frozen_env, beta = 0.99,name=\"fastVI\")"
   ]
  },
  {
   "cell_type": "code",
   "execution_count": null,
   "metadata": {},
   "outputs": [],
   "source": []
  }
 ],
 "metadata": {
  "kernelspec": {
   "display_name": "Python 3 (Intel, 2019 update 2)",
   "language": "python",
   "name": "c009-intel_distribution_of_python_3_2019u2"
  },
  "language_info": {
   "codemirror_mode": {
    "name": "ipython",
    "version": 3
   },
   "file_extension": ".py",
   "mimetype": "text/x-python",
   "name": "python",
   "nbconvert_exporter": "python",
   "pygments_lexer": "ipython3",
   "version": "3.6.8"
  }
 },
 "nbformat": 4,
 "nbformat_minor": 2
}
